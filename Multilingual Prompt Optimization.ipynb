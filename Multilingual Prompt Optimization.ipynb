{
 "cells": [
  {
   "cell_type": "markdown",
   "id": "67d85e3f",
   "metadata": {},
   "source": [
    "# Introduction"
   ]
  },
  {
   "cell_type": "markdown",
   "id": "4d33e7b5",
   "metadata": {},
   "source": [
    "In my last notebook I finetuned a pretrained model for the purpose of translation and summarization. It was a long and resource intensive process while the results were less than stellar. Even the word pairs used to train the model had many mistakes. It would be much more efficient to instead use openAI's GPT 4 for similar small scale tasks. \n",
    "\n",
    "Despite many of the advances since GPT-3.5, GPT-4 still ocasionally struggles with basic reading comprehension and arithmetmic.\n",
    "\n",
    "In this notebook I am going to explore the strengths and limitations as well as how to get the best out of the GPT-4 model using various prompt engineering techniques."
   ]
  },
  {
   "cell_type": "markdown",
   "id": "058ac15e",
   "metadata": {},
   "source": [
    "## Load the Libraries and API Key"
   ]
  },
  {
   "cell_type": "code",
   "execution_count": null,
   "id": "f5020f61",
   "metadata": {},
   "outputs": [],
   "source": [
    "!pip install openai"
   ]
  },
  {
   "cell_type": "code",
   "execution_count": 14,
   "id": "edb74695",
   "metadata": {},
   "outputs": [],
   "source": [
    "from openai import OpenAI\n",
    "\n",
    "client = OpenAI(api_key = 'YOUR KEY HERE')"
   ]
  },
  {
   "cell_type": "markdown",
   "id": "55ac14e9",
   "metadata": {},
   "source": [
    "## Create a Function for Prompting"
   ]
  },
  {
   "cell_type": "markdown",
   "id": "24787104",
   "metadata": {},
   "source": [
    "This function will be called with a prompt and output printed for each instance."
   ]
  },
  {
   "cell_type": "code",
   "execution_count": 41,
   "id": "6e295980",
   "metadata": {},
   "outputs": [],
   "source": [
    "def get_completion(prompt, model='gpt-4',temperature=0, max_tokens=500):\n",
    "    messages =[{'role':'user', 'content':prompt}]\n",
    "    response = client.chat.completions.create(\n",
    "        model=model,\n",
    "        messages=messages,\n",
    "        temperature=temperature,\n",
    "        max_tokens=max_tokens\n",
    "    )\n",
    "    return response.choices[0].message.content"
   ]
  },
  {
   "cell_type": "markdown",
   "id": "cfc8f64b",
   "metadata": {},
   "source": [
    "Let's ask it a basic question just to make sure that everything is working."
   ]
  },
  {
   "cell_type": "code",
   "execution_count": 22,
   "id": "15034fba",
   "metadata": {},
   "outputs": [
    {
     "name": "stdout",
     "output_type": "stream",
     "text": [
      "Two plus two equals four.\n"
     ]
    }
   ],
   "source": [
    "prompt=get_completion('what is two plus two')\n",
    "print(prompt)"
   ]
  },
  {
   "cell_type": "markdown",
   "id": "a3dd5631",
   "metadata": {},
   "source": [
    "# Prompt Optimization"
   ]
  },
  {
   "cell_type": "markdown",
   "id": "1f172c78",
   "metadata": {},
   "source": [
    "## Combining Letters"
   ]
  },
  {
   "cell_type": "markdown",
   "id": "ee8f851e",
   "metadata": {},
   "source": [
    "One of GPT 4's biggest issues is with counting individiual letters within words. That is because it percieves information in tokens rather that letters or words which are often different."
   ]
  },
  {
   "cell_type": "code",
   "execution_count": 29,
   "id": "1f4b7ed6",
   "metadata": {},
   "outputs": [
    {
     "name": "stdout",
     "output_type": "stream",
     "text": [
      "rgu\n"
     ]
    }
   ],
   "source": [
    "prompt=get_completion(\n",
    "\"\"\"\n",
    "Concatenate the second letter in these words together:\n",
    "Egregious\n",
    "Assistant\n",
    "Compupter\n",
    "\"\"\"\n",
    ")\n",
    "print(prompt)"
   ]
  },
  {
   "cell_type": "markdown",
   "id": "293edccc",
   "metadata": {},
   "source": [
    "For example, deciding which letter in a word is the second and combining these letters together can be difficult. One of the simplest methods to fix mistakes like this is to tell ChatGPT to reread the words. Sometimes simply prompting a few times will output the correct answer but in situations where errors should be compltely avoided it is better to have a method to deal with these shortcomings."
   ]
  },
  {
   "cell_type": "code",
   "execution_count": 30,
   "id": "c8b96d04",
   "metadata": {},
   "outputs": [
    {
     "name": "stdout",
     "output_type": "stream",
     "text": [
      "The second letter in each word is:\n",
      "Egregious - g\n",
      "Assistant - s\n",
      "Computer - o\n",
      "\n",
      "When concatenated together, they form \"gso\".\n"
     ]
    }
   ],
   "source": [
    "prompt=get_completion(\n",
    "\"\"\"\n",
    "Concatenate the second letter in these words together:\n",
    "Egregious\n",
    "Assistant\n",
    "Compupter\n",
    "\n",
    "Reread all of these words again and make sure to concatenate the second letter in these words together.\n",
    "\"\"\"\n",
    ")\n",
    "print(prompt)"
   ]
  },
  {
   "cell_type": "markdown",
   "id": "800ac78e",
   "metadata": {},
   "source": [
    "Let's take a look at another example since it a big issue for the model."
   ]
  },
  {
   "cell_type": "code",
   "execution_count": 78,
   "id": "d3717391",
   "metadata": {},
   "outputs": [
    {
     "name": "stdout",
     "output_type": "stream",
     "text": [
      "The result is \"Stusle\".\n"
     ]
    }
   ],
   "source": [
    "prompt=get_completion(\n",
    "\"\"\"\n",
    "Concatenate the first and last letters of the word Salt the second and third letters of the word Useful and the last two letters \\\n",
    "of the word Table\n",
    "\"\"\"\n",
    ")\n",
    "print(prompt)"
   ]
  },
  {
   "cell_type": "code",
   "execution_count": 82,
   "id": "05102da0",
   "metadata": {},
   "outputs": [
    {
     "name": "stdout",
     "output_type": "stream",
     "text": [
      "In Python, you can concatenate the letters from these words using the following code:\n",
      "\n",
      "```python\n",
      "word1 = \"Salt\"\n",
      "word2 = \"Useful\"\n",
      "word3 = \"Table\"\n",
      "\n",
      "output = word1[0] + word1[-1] + word2[1] + word2[2] + word3[-2] + word3[-1]\n",
      "print(output)\n",
      "```\n",
      "\n",
      "The output would be: \"Stsele\"\n"
     ]
    }
   ],
   "source": [
    "prompt=get_completion(\n",
    "\"\"\"\n",
    "Concatenate the first and last letters of the word Salt the second and third letters of the word Useful and the last two letters \\\n",
    "of the word Table.\n",
    "\n",
    "Write out how you would concatenate the letters from these words in python. Remember that Python starts counting at 0.\n",
    "What would be the output?\n",
    "\"\"\"\n",
    ")\n",
    "print(prompt)"
   ]
  },
  {
   "cell_type": "markdown",
   "id": "63d5cdaf",
   "metadata": {},
   "source": [
    "Another technique is to prompt the model to think in terms of code which is a more natural logical process than being confused with words and tokens. Even in this example I had to include a reminder about how counting in Python works."
   ]
  },
  {
   "cell_type": "markdown",
   "id": "e2c6c6a5",
   "metadata": {},
   "source": [
    "## Math Word Problem"
   ]
  },
  {
   "cell_type": "markdown",
   "id": "b284e649",
   "metadata": {},
   "source": [
    "Math itself is usually not a problem but when words and multiple steps are added, it can easily cause the model to skip a step or focus on a different variable."
   ]
  },
  {
   "cell_type": "code",
   "execution_count": 35,
   "id": "a93d60e4",
   "metadata": {},
   "outputs": [
    {
     "name": "stdout",
     "output_type": "stream",
     "text": [
      "Bob has 2 oranges now.\n"
     ]
    }
   ],
   "source": [
    "prompt=get_completion(\n",
    "\"\"\"\n",
    "Bob has five apples and five oranges. Alice gave him three apples and took five oranges. \n",
    "The next day he ate half of his apples for breakfast and then another one for lunch. Later that day he bought and orange, an apple\n",
    "and two bananas. Bob gave all of his apples to alice. How many oranges does he have now?\n",
    "\"\"\"\n",
    ")\n",
    "print(prompt)"
   ]
  },
  {
   "cell_type": "code",
   "execution_count": 42,
   "id": "b635bd97",
   "metadata": {},
   "outputs": [
    {
     "name": "stdout",
     "output_type": "stream",
     "text": [
      "Step 1: Bob starts with five apples and five oranges.\n",
      "\n",
      "Step 2: Alice gives Bob three apples and takes five oranges. Now, Bob has eight apples (5 original + 3 from Alice) and zero oranges (5 original - 5 taken by Alice).\n",
      "\n",
      "Step 3: The next day, Bob eats half of his apples for breakfast. Half of eight apples is four, so Bob now has four apples left.\n",
      "\n",
      "Step 4: Bob eats another apple for lunch. Now, he has three apples left.\n",
      "\n",
      "Step 5: Later that day, Bob buys an orange, an apple, and two bananas. Now, Bob has four apples (3 remaining + 1 bought) and one orange (0 original + 1 bought).\n",
      "\n",
      "Step 6: Bob gives all of his apples to Alice. Now, Bob has zero apples and one orange.\n",
      "\n",
      "So, Bob now has one orange.\n"
     ]
    }
   ],
   "source": [
    "prompt=get_completion(\n",
    "\"\"\"\n",
    "Bob has five apples and five oranges. Alice gave him three apples and took five oranges. \n",
    "The next day he ate half of his apples for breakfast and then another one for lunch. Later that day he bought and orange, an apple\n",
    "and two bananas. Bob gave all of his apples to alice. How many oranges does he have now?\n",
    "\n",
    "Break down everything that happened to Bob step by step, making sure to count the total number of each fruit he has at each step.\n",
    "How many oranges does Bob have now?\n",
    "\"\"\"\n",
    ")\n",
    "print(prompt)"
   ]
  },
  {
   "cell_type": "markdown",
   "id": "fc27dfbb",
   "metadata": {},
   "source": [
    "Telling the model to break something down step by step forces it to break each step down into more detail and 'think' it through making sure that no step is missed or confused with another."
   ]
  },
  {
   "cell_type": "markdown",
   "id": "31cdd1bc",
   "metadata": {},
   "source": [
    "## Telling and Counting Time"
   ]
  },
  {
   "cell_type": "markdown",
   "id": "a9e4ee39",
   "metadata": {},
   "source": [
    "Terms like half an hour, quarter to something or ten past something can be confusing for the model"
   ]
  },
  {
   "cell_type": "code",
   "execution_count": 43,
   "id": "3e35ddfc",
   "metadata": {},
   "outputs": [
    {
     "name": "stdout",
     "output_type": "stream",
     "text": [
      "Bob has 15 minutes until the meeting.\n"
     ]
    }
   ],
   "source": [
    "prompt=get_completion(\n",
    "\"\"\"\n",
    "Bob has an important meeting he has to attend at eight. He left his house at quarter to seven and headed to the bus stop. /\n",
    "By the time he got to the bus stop it was already five past seven. He missed the first bus and had to wait another 22 minutes for the next one./\n",
    "The bus ride took him half an hour. How much time does Bob have until the meeting?\n",
    "\"\"\"\n",
    ")\n",
    "print(prompt)"
   ]
  },
  {
   "cell_type": "code",
   "execution_count": 44,
   "id": "fecf689c",
   "metadata": {},
   "outputs": [
    {
     "name": "stdout",
     "output_type": "stream",
     "text": [
      "Left the house at quarter to seven or 6:45\n",
      "Got to the bus stop at five past seven or 7:05\n",
      "Waited for the bus for 22 minutes so 7:05 + 22 = 7:27\n",
      "The bus ride took half an hour so 7:27 + 30 = 7:57\n",
      "The meeting is at 8:00 - 7:57 = 3\n",
      "Bob has 3 minutes until the meeting.\n"
     ]
    }
   ],
   "source": [
    "prompt=get_completion(\n",
    "\"\"\"\n",
    "Q:\n",
    "Alice has an important meeting at five. She left her house at ten past three and got into her car.\n",
    "She decided to stop by the gas station to refuel her car. By the time she was done it was already quarter to four.\n",
    "She drove for 48 minutes. How much time does Alice have until the meeting?\n",
    "\n",
    "\n",
    "A:\n",
    "Left the house at ten past three or 3:10\n",
    "Got gas at quarter to four or 3:45\n",
    "Drove for 48 minutes so 3:45 + 48 = 4:33\n",
    "The meeting is at 5:00 - 4:33 = 27\n",
    "Alice has 27 minutes until the meeting\n",
    "\n",
    "Q:\n",
    "Bob has an important meeting he has to attend at eight. He left his house at quarter to seven and headed to the bus stop. \n",
    "By the time he got to the bus stop it was already five past seven. He missed the first bus and had to wait another 22 minutes for the next one.\n",
    "The bus ride took him half an hour. How much time does Bob have until the meeting?\n",
    "\n",
    "A:\n",
    "\"\"\"\n",
    ")\n",
    "print(prompt)"
   ]
  },
  {
   "cell_type": "markdown",
   "id": "71698850",
   "metadata": {},
   "source": [
    "One of the most powerful techniques in prompt engineering is to first give an example on how to best solve a similar problem. GPT 4 will then break it down in a similar way and give the correct answer."
   ]
  },
  {
   "cell_type": "markdown",
   "id": "88ee0a2b",
   "metadata": {},
   "source": [
    "## Multilingual Prompting and Translation"
   ]
  },
  {
   "cell_type": "markdown",
   "id": "2c3107eb",
   "metadata": {},
   "source": [
    "Let's take a look at another word problem and see how translation can be used to improve accuracy."
   ]
  },
  {
   "cell_type": "code",
   "execution_count": 94,
   "id": "93c022e2",
   "metadata": {},
   "outputs": [
    {
     "name": "stdout",
     "output_type": "stream",
     "text": [
      "Alice will bring home 20 magnets.\n"
     ]
    }
   ],
   "source": [
    "prompt=get_completion(\n",
    "\"\"\"\n",
    "Alice began her journey from England and decided to see how many fridge magnets she can collect on the way. First she went \\\n",
    "to Norway where she got two magnets. She then got a magnet in Sweden, Denmark and Finland. In Germany she was able to get \\\n",
    "half a dozen but only a single one in Switzerland. In Italy she bought three but lost one. In Spain she was able to get three of \\\n",
    "them. Just one in Portugal but France did not disappoint with an impressive five magnets. She couldn't wait to get home and \\\n",
    "place them all on her fridge.\n",
    "\n",
    "How many magnets will Alice bring home?\n",
    "\"\"\"\n",
    ")\n",
    "print(prompt)"
   ]
  },
  {
   "cell_type": "code",
   "execution_count": 95,
   "id": "9ec47936",
   "metadata": {},
   "outputs": [
    {
     "name": "stdout",
     "output_type": "stream",
     "text": [
      "Алиса начала свое путешествие из Англии и решила посмотреть, сколько магнитов на холодильник она сможет собрать по пути. Сначала она поехала в Норвегию, где получила два магнита. Затем она получила по магниту в Швеции, Дании и Финляндии. В Германии ей удалось получить полдюжины, но только один в Швейцарии. В Италии она купила три, но потеряла один. В Испании она смогла получить три из них. Только один в Португалии, но Франция не разочаровала с впечатляющими пятью магнитами. Она не могла дождаться, когда вернется домой и разместит их все на своем холодильнике.\n"
     ]
    }
   ],
   "source": [
    "prompt=get_completion(\n",
    "\"\"\"\n",
    "Alice began her journey from England and decided to see how many fridge magnets she can collect on the way. First she went \\\n",
    "to Norway where she got two magnets. She then got a magnet in Sweden, Denmark and Finland. In Germany she was able to get \\\n",
    "half a dozen but only a single one in Switzerland. In Italy she bought three but lost one. In Spain she was able to get three of \\\n",
    "them. Just one in Portugal but France did not disappoint with an impressive five magnets. She couldn't wait to get home and \\\n",
    "place them all on her fridge.\n",
    "\n",
    "Translate the above to Russian.\n",
    "\"\"\"\n",
    ")\n",
    "print(prompt)"
   ]
  },
  {
   "cell_type": "code",
   "execution_count": 122,
   "id": "135f1684",
   "metadata": {},
   "outputs": [
    {
     "name": "stdout",
     "output_type": "stream",
     "text": [
      "Алиса собрала в общей сложности 2 (Норвегия) + 1 (Швеция) + 1 (Дания) + 1 (Финляндия) + 6 (Германия) + 1 (Швейцария) + 3 (Италия) - 1 (потерянный в Италии) + 3 (Испания) + 1 (Португалия) + 5 (Франция) = 23 магнита.\n"
     ]
    }
   ],
   "source": [
    "prompt=get_completion(\n",
    "\"\"\"\n",
    "Алиса начала свое путешествие из Англии и решила посмотреть, сколько магнитов на холодильник она сможет собрать по пути. \\\n",
    "Сначала она поехала в Норвегию, где получила два магнита. Затем она получила по магниту в Швеции, Дании и Финляндии. \\\n",
    "В Германии ей удалось получить полдюжины, но только один в Швейцарии. В Италии она купила три, но потеряла один. \\\n",
    "В Испании она смогла получить три из них. Только один в Португалии, но Франция не разочаровала с впечатляющими пятью магнитами. \\\n",
    "Она не могла дождаться, когда вернется домой и разместит их все на своем холодильнике.\n",
    "\n",
    "Подведи Итог.\n",
    "\"\"\"\n",
    ")\n",
    "print(prompt)"
   ]
  },
  {
   "cell_type": "markdown",
   "id": "0ebf3d20",
   "metadata": {},
   "source": [
    "The model had issues following along with the number of magnets in this word problem. I decided to translate the problem to Russian and then ask it to draw a conclusion from the translation. One interesting thing here is that translating to a different language can clear up some ambiguities. For example in English some can misunderstand whether there was one magnet from Sweden, Denmark and Finland or one from each. The Russian translation is much less ambigous that there is a magnet from each country. Alternatively, simply giving the model an opportunity to re read and summarize the problem could help it arrive to the correct conclusion. "
   ]
  },
  {
   "cell_type": "code",
   "execution_count": 123,
   "id": "a1ea7500",
   "metadata": {},
   "outputs": [
    {
     "name": "stdout",
     "output_type": "stream",
     "text": [
      "Как вам будет удобнее! Я могу общаться как в формальном, так и в неформальном стиле.\n"
     ]
    }
   ],
   "source": [
    "prompt=get_completion(\n",
    "\"\"\"\n",
    "С вами на вы или на ты?\n",
    "\"\"\"\n",
    ")\n",
    "print(prompt)"
   ]
  },
  {
   "cell_type": "markdown",
   "id": "53167418",
   "metadata": {},
   "source": [
    "I was worried that I might have offended the model by using the informal you, but luckily both the formal and the informal are fine!"
   ]
  },
  {
   "cell_type": "markdown",
   "id": "beec46f0",
   "metadata": {},
   "source": [
    "# Conclusion"
   ]
  },
  {
   "cell_type": "markdown",
   "id": "a9323967",
   "metadata": {},
   "source": [
    "Despite the technological breakthroughs that lead to the creation of this model, knowing that it can still struggle with questions that an elementary school student can answer shines a light on its limitiations. The knowledge of how to circumvent these issues at the current stage of development is very valuable. I hope to monitor the model's progress closely and learn together with it."
   ]
  }
 ],
 "metadata": {
  "kernelspec": {
   "display_name": "Python 3 (ipykernel)",
   "language": "python",
   "name": "python3"
  },
  "language_info": {
   "codemirror_mode": {
    "name": "ipython",
    "version": 3
   },
   "file_extension": ".py",
   "mimetype": "text/x-python",
   "name": "python",
   "nbconvert_exporter": "python",
   "pygments_lexer": "ipython3",
   "version": "3.11.5"
  }
 },
 "nbformat": 4,
 "nbformat_minor": 5
}
